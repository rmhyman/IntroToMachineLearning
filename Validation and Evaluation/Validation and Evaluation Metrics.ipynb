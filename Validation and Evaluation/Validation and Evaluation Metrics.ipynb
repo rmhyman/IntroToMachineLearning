{
 "cells": [
  {
   "cell_type": "markdown",
   "metadata": {},
   "source": [
    "#Validation\n",
    "\n",
    "##Train and Test Split\n",
    "\n",
    "##K-fold Cross Validation\n",
    "\n",
    "##GridSearch Cross Validation"
   ]
  },
  {
   "cell_type": "markdown",
   "metadata": {},
   "source": [
    "#Evaluation Metrics\n",
    "\n",
    "##Accuracy Score\n",
    "\n",
    "##Confusion Matrix\n",
    "\n",
    "##Precision and Recall\n",
    "\n",
    "###True Positive\n",
    "###False Positive\n",
    "###False Negatives"
   ]
  }
 ],
 "metadata": {
  "kernelspec": {
   "display_name": "Python 2",
   "language": "python",
   "name": "python2"
  },
  "language_info": {
   "codemirror_mode": {
    "name": "ipython",
    "version": 2
   },
   "file_extension": ".py",
   "mimetype": "text/x-python",
   "name": "python",
   "nbconvert_exporter": "python",
   "pygments_lexer": "ipython2",
   "version": "2.7.10"
  }
 },
 "nbformat": 4,
 "nbformat_minor": 0
}
