{
 "cells": [
  {
   "cell_type": "markdown",
   "metadata": {},
   "source": [
    "#Principal Component Analysis\n",
    "\n",
    "**Principal Component Analysis** or PCA is used to shift the center of the plane to the center of the data using only transformation and rotation.  PCA is used for dimensionality reduction and unsupervised learning.  By dimensionality reduction, I mean that it can reduce a set of n features, into m latent features where m < n.  *Latent features* are features that represent some information that you interested in which is  a composite of a number of measurable features. \n",
    "\n",
    "The principle component of a dataset is the direction that has the largest amount variance across the datapoints.  This component line can be found by drawing an oval around the bulk of the data set and finding the line which has the most variance across the data points.\n",
    "\n",
    "##Maximal Variance and Information Loss\n",
    "The compenent line with the maximal variance minimizes the amount of information loss due to projecting the data points onto the principal component.  The **information loss** is defined as the distance between the original point and the component line.\n",
    "\n",
    "##PCA usage for Feature Transformation\n",
    "PCA can be used as a preprocessor to generate the features that provide the most information which can be used in a machine learning algorithm.  \n",
    "\n",
    "##PCA in sklearn"
   ]
  },
  {
   "cell_type": "code",
   "execution_count": 7,
   "metadata": {
    "collapsed": false
   },
   "outputs": [
    {
     "name": "stdout",
     "output_type": "stream",
     "text": [
      "[ 0.92461621  0.05301557]\n",
      "[ 0.36158968 -0.08226889  0.85657211  0.35884393]\n",
      "[-0.65653988 -0.72971237  0.1757674   0.07470647]\n"
     ]
    }
   ],
   "source": [
    "from sklearn import datasets\n",
    "from sklearn.decomposition import PCA\n",
    "\n",
    "iris = datasets.load_iris()\n",
    "\n",
    "pca = PCA(n_components=2)\n",
    "\n",
    "pca.fit(iris.data)\n",
    "\n",
    "print pca.explained_variance_ratio_\n",
    "\n",
    "first_pc = pca.components_[0]\n",
    "\n",
    "second_pc = pca.components_[1]\n",
    "\n",
    "print first_pc\n",
    "\n",
    "print second_pc\n",
    "\n"
   ]
  }
 ],
 "metadata": {
  "kernelspec": {
   "display_name": "Python 2",
   "language": "python",
   "name": "python2"
  },
  "language_info": {
   "codemirror_mode": {
    "name": "ipython",
    "version": 2
   },
   "file_extension": ".py",
   "mimetype": "text/x-python",
   "name": "python",
   "nbconvert_exporter": "python",
   "pygments_lexer": "ipython2",
   "version": "2.7.10"
  }
 },
 "nbformat": 4,
 "nbformat_minor": 0
}
